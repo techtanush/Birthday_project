{
  "nbformat": 4,
  "nbformat_minor": 0,
  "metadata": {
    "colab": {
      "name": "Birthday_project.ipynb",
      "provenance": [],
      "authorship_tag": "ABX9TyNpiOAxrzTcPOVWvuW2OO5b",
      "include_colab_link": true
    },
    "kernelspec": {
      "name": "python3",
      "display_name": "Python 3"
    },
    "language_info": {
      "name": "python"
    }
  },
  "cells": [
    {
      "cell_type": "markdown",
      "metadata": {
        "id": "view-in-github",
        "colab_type": "text"
      },
      "source": [
        "<a href=\"https://colab.research.google.com/github/techtanush/Birthday_project/blob/main/Birthday_project.ipynb\" target=\"_parent\"><img src=\"https://colab.research.google.com/assets/colab-badge.svg\" alt=\"Open In Colab\"/></a>"
      ]
    },
    {
      "cell_type": "code",
      "metadata": {
        "id": "gQqco0BXr5Ta"
      },
      "source": [
        "import pygame # To install in mac, write  python3 -m pip install pygame\n",
        "from time import sleep\n",
        "pygame.init()\n",
        "Mac = pygame.display.set_mode((0,0),pygame.FULLSCREEN)\n",
        "#sleep(5)\n",
        "pygame.mixer.init()\n",
        "pygame.mixer.music.load('Soothing_music.mp3')\n",
        "pygame.mixer.music.play()\n",
        "sleep(10)\n",
        "pygame.mixer.music.load('Traditional-Happy-Birthday-To-You-Song.mp3')\n",
        "pygame.mixer.music.play()\n",
        "image = pygame.image.load('happy birthday latest image.jpg')\n",
        "Mac.blit(image,(0,0))\n",
        "pygame.display.update()\n",
        "sleep(20)"
      ],
      "execution_count": null,
      "outputs": []
    }
  ]
}